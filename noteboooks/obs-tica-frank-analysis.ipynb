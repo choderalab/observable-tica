{
 "cells": [
  {
   "cell_type": "code",
   "execution_count": null,
   "metadata": {},
   "outputs": [],
   "source": [
    "import mdtraj as md\n",
    "import numpy as np\n",
    "from msmbuilder.featurizer import DihedralFeaturizer\n",
    "from msmbuilder.featurizer import AtomPairsFeaturizer\n",
    "from msmbuilder.featurizer import ContactFeaturizer"
   ]
  },
  {
   "cell_type": "code",
   "execution_count": null,
   "metadata": {},
   "outputs": [],
   "source": [
    "import sys\n",
    "sys.path.insert(0, '/Users/Bren/Documents/Github/observable-tica/tica-class')\n",
    "\n",
    "from class_obs_tica import ObservableTicaObject\n",
    "from class_plots import plot_all\n",
    "from class_plots import plot_3d\n",
    "from class_plots import plot_all_obs_cmap"
   ]
  },
  {
   "cell_type": "code",
   "execution_count": null,
   "metadata": {},
   "outputs": [],
   "source": []
  },
  {
   "cell_type": "markdown",
   "metadata": {},
   "source": [
    "# Load Alanine Dipeptide"
   ]
  },
  {
   "cell_type": "markdown",
   "metadata": {},
   "source": [
    "TEST 1 DONE\n",
    "X1 = dihedral angles\n",
    "Y1 = O-N distance\n",
    "\n",
    "WAIT ON THIS ONE\n",
    "X2 = methyl torsion (This is a little harder)\n",
    "Y2 = X1 = dihedral angles\n",
    "\n",
    "TEST 5 DONE\n",
    "X5 = interatomic distances\n",
    "Y5 = one of the two torsion angles (test both)"
   ]
  },
  {
   "cell_type": "code",
   "execution_count": null,
   "metadata": {},
   "outputs": [],
   "source": [
    "from msmbuilder.example_datasets import AlanineDipeptide\n",
    "trajs = AlanineDipeptide().get().trajectories\n",
    "\n",
    "Ns = [6,16]\n",
    "Os = [5,15]\n",
    "\n",
    "o_n_pairs = [(o,n) for o in Os for n in Ns]\n",
    "\n",
    "X1 = DihedralFeaturizer(['phi', 'psi', 'omega', 'chi1', 'chi2', 'chi3', 'chi4']).fit_transform(trajs)\n",
    "Y1 = AtomPairsFeaturizer(o_n_pairs).fit_transform(trajs)\n",
    "\n",
    "\n",
    "X2 = 'THERE IS NO X2 RIGHT NOW'\n",
    "Y2 = X1.copy()\n",
    "\n",
    "\n",
    "pairs = []\n",
    "for i in range(22):\n",
    "    for j in range(i):\n",
    "        pairs.append((j,i))\n",
    "\n",
    "X5 = AtomPairsFeaturizer(pairs).fit_transform(trajs)\n",
    "Y5_first = [traj[:,[0,1]] for traj in Y2]\n",
    "Y5_second = [traj[:,[2,3]] for traj in Y2]"
   ]
  },
  {
   "cell_type": "markdown",
   "metadata": {},
   "source": [
    "# Load Met-Enkephalin"
   ]
  },
  {
   "cell_type": "markdown",
   "metadata": {},
   "source": [
    "TEST 3 DONE\n",
    "X3 = all torsion angles\n",
    "Y3 = Inter residue dist. c-alpha\n",
    "\n",
    "TEST 4 DONE\n",
    "X4 = X3\n",
    "Y4 = first and last residuce distances (c-alpha)"
   ]
  },
  {
   "cell_type": "code",
   "execution_count": null,
   "metadata": {},
   "outputs": [],
   "source": [
    "from msmbuilder.example_datasets import MetEnkephalin\n",
    "print(type(MetEnkephalin))\n",
    "trajs = MetEnkephalin().get().trajectories\n",
    "\n",
    "X3 = DihedralFeaturizer(['phi', 'psi', 'omega', 'chi1', 'chi2', 'chi3', 'chi4']).fit_transform(trajs)\n",
    "Y3 = ContactFeaturizer(contacts='all', scheme='ca').fit_transform(trajs)\n",
    "\n",
    "X4 = X3.copy()\n",
    "Y4 = ContactFeaturizer(contacts=[[0,4]], scheme='ca').fit_transform(trajs)"
   ]
  },
  {
   "cell_type": "markdown",
   "metadata": {},
   "source": [
    "# Alanine Dipeptide: \n",
    "### X1 = dihedral angles\n",
    "### Y1 = O-N distance"
   ]
  },
  {
   "cell_type": "code",
   "execution_count": null,
   "metadata": {},
   "outputs": [],
   "source": [
    "test1 = ObservableTicaObject()\n",
    "tics = test1.fit_transform(X1, Y1)\n",
    "print('ics', np.array(tics).shape)\n",
    "plot_all_obs_cmap(tics[:,0], tics[:,1], Y1)"
   ]
  },
  {
   "cell_type": "markdown",
   "metadata": {},
   "source": [
    "# Met-Enkephalin: \n",
    "### X3 = all torsion angles\n",
    "### Y3 = Inter residue dist. c-alpha"
   ]
  },
  {
   "cell_type": "code",
   "execution_count": null,
   "metadata": {},
   "outputs": [],
   "source": [
    "test3 = ObservableTicaObject()\n",
    "tics = test3.fit_transform(X3, Y3)\n",
    "plot_all_obs_cmap(tics[:,0], tics[:,1], Y3)"
   ]
  },
  {
   "cell_type": "markdown",
   "metadata": {},
   "source": [
    "### X4 = all torsion angles\n",
    "### Y4 = first and last residuce distances (c-alpha)"
   ]
  },
  {
   "cell_type": "code",
   "execution_count": null,
   "metadata": {},
   "outputs": [],
   "source": [
    "test4 = ObservableTicaObject()\n",
    "tics = test4.fit_transform(X4, Y4)\n",
    "print ('boi',np.array(tics).shape)\n",
    "plot_all_obs_cmap(tics[:,0], tics[:,1], Y4)"
   ]
  },
  {
   "cell_type": "markdown",
   "metadata": {},
   "source": [
    "### X5 = Interatomic Distances\n",
    "### Y5_first = first dihedral angle\n",
    "### Y5_second = second dihedral angle"
   ]
  },
  {
   "cell_type": "code",
   "execution_count": null,
   "metadata": {},
   "outputs": [],
   "source": [
    "test5 = ObservableTicaObject()\n",
    "tics = test5.fit_transform(X5, Y5_first)\n",
    "plot_all_obs_cmap(tics[:,0], tics[:,1], Y5_first)"
   ]
  },
  {
   "cell_type": "code",
   "execution_count": null,
   "metadata": {},
   "outputs": [],
   "source": [
    "test5 = ObservableTicaObject()\n",
    "tics = test5.fit_transform(X5, Y5_second)\n",
    "plot_all_obs_cmap(tics[:,0], tics[:,1], Y5_second)"
   ]
  },
  {
   "cell_type": "code",
   "execution_count": null,
   "metadata": {},
   "outputs": [],
   "source": [
    "test = ObservableTicaObject()\n",
    "tics = test.fit_transform(X5, X1)\n",
    "plot_all_obs_cmap(tics[:,0], tics[:,1], X1)"
   ]
  },
  {
   "cell_type": "code",
   "execution_count": null,
   "metadata": {},
   "outputs": [],
   "source": []
  }
 ],
 "metadata": {
  "kernelspec": {
   "display_name": "Python 3",
   "language": "python",
   "name": "python3"
  },
  "language_info": {
   "codemirror_mode": {
    "name": "ipython",
    "version": 3
   },
   "file_extension": ".py",
   "mimetype": "text/x-python",
   "name": "python",
   "nbconvert_exporter": "python",
   "pygments_lexer": "ipython3",
   "version": "3.6.5"
  }
 },
 "nbformat": 4,
 "nbformat_minor": 2
}
