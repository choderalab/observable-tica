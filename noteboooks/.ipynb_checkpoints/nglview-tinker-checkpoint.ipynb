{
 "cells": [
  {
   "cell_type": "code",
   "execution_count": 6,
   "metadata": {},
   "outputs": [
    {
     "name": "stdout",
     "output_type": "stream",
     "text": [
      "<class 'msmbuilder.example_datasets.alanine_dipeptide.AlanineDipeptide'>\n",
      "alanine_dipeptide already is cached\n",
      "<class 'list'>\n"
     ]
    }
   ],
   "source": [
    "from pyemma.coordinates import tica\n",
    "from msmbuilder.example_datasets import AlanineDipeptide\n",
    "import matplotlib.pyplot as plt\n",
    "from matplotlib import cm\n",
    "\n",
    "print (type(AlanineDipeptide()))\n",
    "\n",
    "trajs = AlanineDipeptide().get().trajectories\n",
    "import numpy as np\n",
    "\n",
    "print(type(trajs))\n",
    "\n",
    "from msmbuilder.featurizer import AtomPairsFeaturizer\n",
    "pairs = []\n",
    "for i in range(22):\n",
    "    for j in range(i):\n",
    "        pairs.append((j,i))\n",
    "X = AtomPairsFeaturizer(pairs).fit_transform(trajs)\n",
    "\n",
    "from msmbuilder.featurizer import DihedralFeaturizer\n",
    "Y = DihedralFeaturizer().fit_transform(trajs)\n",
    "Y_di = np.array(DihedralFeaturizer(sincos=False).fit_transform(trajs))"
   ]
  },
  {
   "cell_type": "code",
   "execution_count": 9,
   "metadata": {},
   "outputs": [],
   "source": [
    "import nglview as nv\n",
    "view = nv.show_pdbid(\"3pqr\")\n",
    "\n",
    "view.clear_representations()\n",
    "view.add_licorice('not hydrogen')\n",
    "view.add_cartoon()\n",
    "view.add_surface(opacity=.3)\n"
   ]
  },
  {
   "cell_type": "code",
   "execution_count": 11,
   "metadata": {},
   "outputs": [],
   "source": [
    "view.render_image()"
   ]
  },
  {
   "cell_type": "raw",
   "metadata": {},
   "source": []
  },
  {
   "cell_type": "code",
   "execution_count": null,
   "metadata": {},
   "outputs": [],
   "source": []
  }
 ],
 "metadata": {
  "kernelspec": {
   "display_name": "Python 3",
   "language": "python",
   "name": "python3"
  },
  "language_info": {
   "codemirror_mode": {
    "name": "ipython",
    "version": 3
   },
   "file_extension": ".py",
   "mimetype": "text/x-python",
   "name": "python",
   "nbconvert_exporter": "python",
   "pygments_lexer": "ipython3",
   "version": "3.6.5"
  }
 },
 "nbformat": 4,
 "nbformat_minor": 2
}
